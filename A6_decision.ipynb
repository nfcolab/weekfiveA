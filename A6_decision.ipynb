{
 "cells": [
  {
   "cell_type": "markdown",
   "id": "7ff8f1d5",
   "metadata": {},
   "source": [
    "# Weekly Assignment 6, Task 1\n",
    "This notebook documents the decision making task."
   ]
  },
  {
   "cell_type": "code",
   "execution_count": null,
   "id": "8a21b387",
   "metadata": {},
   "outputs": [],
   "source": [
    "import decision2\n",
    "import ui"
   ]
  },
  {
   "cell_type": "code",
   "execution_count": null,
   "id": "9793b93c",
   "metadata": {},
   "outputs": [],
   "source": [
    "# The file comes with a ready-made UI that you can use, or feel free to make your own.\n",
    "ui.visualise_UI(decision2.decision_ui)"
   ]
  },
  {
   "cell_type": "code",
   "execution_count": null,
   "id": "fe877e4b",
   "metadata": {},
   "outputs": [],
   "source": [
    "# There are also three sample tasks, which you can copy to make your own, or use these.\n",
    "# Note that if you make your own UI, the task dictionary must correspond to the element names in that UI!\n",
    "decision2.task1"
   ]
  },
  {
   "cell_type": "markdown",
   "id": "d1dd3605",
   "metadata": {},
   "source": [
    "We start with creating a decision making agent, who's task is to conduct visual search over the UI elements and based on information in them (text or colours), decide whether to accept or reject a transaction. Training an agent takes some time, and we can then use the trained agent for simulations. The agent only needs retraining if the UI changes, or if some parameters are changed. So, generally it's a good idea to train agents in a separate cell, and then use another cell to use the agent for analysis."
   ]
  },
  {
   "cell_type": "code",
   "execution_count": null,
   "id": "1ee75338",
   "metadata": {},
   "outputs": [],
   "source": [
    "# Here we only train the agent. The output provides us with a counter (from 0 to 1), and shows the\n",
    "# average reward obtained by the agent. When this number does not increase anymore, the agent has converged\n",
    "# (i.e., trained fully).\n",
    "\n",
    "my_agent = decision2.train_decision_maker(decision2.decision_ui, colours = False)"
   ]
  },
  {
   "cell_type": "code",
   "execution_count": null,
   "id": "e6ac5e71",
   "metadata": {},
   "outputs": [],
   "source": [
    "# Here is how the agent does task1.\n",
    "# Note that if the model gets stuck constantly, try to create and train a new model.\n",
    "decision2.simulate_decision_task(my_agent, decision2.task1)"
   ]
  },
  {
   "cell_type": "code",
   "execution_count": null,
   "id": "b00c9fb8",
   "metadata": {},
   "outputs": [],
   "source": [
    "# If no task is given, one is randomised\n",
    "decision2.simulate_decision_task(my_agent)"
   ]
  },
  {
   "cell_type": "code",
   "execution_count": null,
   "id": "3dee2e6a",
   "metadata": {},
   "outputs": [],
   "source": [
    "# Here is how to sample the agent for multiple results\n",
    "decision2.sample_decision_agent(my_agent)"
   ]
  },
  {
   "cell_type": "markdown",
   "id": "4bd3d6b7",
   "metadata": {},
   "source": [
    "The first returned value is the success rate, i.e., the proportion of tasks finished correctly (the result is between 0-1, with 1 meaning all choices were correct). The second value is the average task completion time in seconds, and third is average number of elements that were visually encoded during the task. These values are an average from a sample of 1000 model runs. You'll notice that running the model does not take long, after it has been trained."
   ]
  },
  {
   "cell_type": "code",
   "execution_count": null,
   "id": "18c9dfd3",
   "metadata": {},
   "outputs": [],
   "source": [
    "# Let's look how the model does the task with color guidance.\n",
    "my_agent_colours = decision2.train_decision_maker(decision2.decision_ui, colours = True)"
   ]
  },
  {
   "cell_type": "code",
   "execution_count": null,
   "id": "8c772d2c",
   "metadata": {},
   "outputs": [],
   "source": [
    "# Here is how the agent does task1\n",
    "decision2.simulate_decision_task(my_agent_colours, decision2.task1)"
   ]
  },
  {
   "cell_type": "code",
   "execution_count": null,
   "id": "c912f033",
   "metadata": {},
   "outputs": [],
   "source": [
    "# Sample the agent\n",
    "decision2.sample_decision_agent(my_agent_colours)"
   ]
  },
  {
   "cell_type": "code",
   "execution_count": null,
   "id": "f2c7a56c",
   "metadata": {},
   "outputs": [],
   "source": [
    "# Here is an agent that has trouble reading the contents of the elements.\n",
    "my_agent_reading = decision2.train_decision_maker(decision2.decision_ui, colours = False, encoding_penalty = 0.5)"
   ]
  },
  {
   "cell_type": "code",
   "execution_count": null,
   "id": "3ce5b476",
   "metadata": {},
   "outputs": [],
   "source": [
    "# Sample the agent: what is the result of increased encoding time?\n",
    "decision2.sample_decision_agent(my_agent_reading)"
   ]
  },
  {
   "cell_type": "code",
   "execution_count": null,
   "id": "c42d2270",
   "metadata": {},
   "outputs": [],
   "source": [
    "# What if we punish for wrong answers?\n",
    "my_agent_punish_incorrect = decision2.train_decision_maker(decision2.decision_ui, colours = False, incorrect_reward = -10)"
   ]
  },
  {
   "cell_type": "code",
   "execution_count": null,
   "id": "29b653c2",
   "metadata": {},
   "outputs": [],
   "source": [
    "# Results\n",
    "decision2.sample_decision_agent(my_agent_punish_incorrect)"
   ]
  },
  {
   "cell_type": "code",
   "execution_count": null,
   "id": "14ff75f7",
   "metadata": {},
   "outputs": [],
   "source": [
    "# The UI does not need to be \"boring\". It does not even need to have 9 elements, as long as it has an odd number \n",
    "# of elements so the task is always accept or reject. Element names can also be anything we want.\n",
    "new_ui = ui.ui()\n",
    "\n",
    "new_ui.add_element(\"a1\", 10, 10, 20, 20)\n",
    "new_ui.add_element(\"a2\", 50, 100, 50, 20)\n",
    "new_ui.add_element(\"a3\", 600, 600, 10, 10)\n",
    "new_ui.add_element(\"a4\", 1000, 10, 50, 70)\n",
    "new_ui.add_element(\"a5\", 30, 800, 20, 20)\n",
    "new_ui.add_element(\"a6\", 700, 300, 60, 30)\n",
    "new_ui.add_element(\"a7\", 200, 800, 20, 20)\n",
    "\n",
    "ui.visualise_UI(new_ui)"
   ]
  },
  {
   "cell_type": "code",
   "execution_count": null,
   "id": "d6f1a210",
   "metadata": {},
   "outputs": [],
   "source": [
    "new_agent = decision2.train_decision_maker(new_ui)"
   ]
  },
  {
   "cell_type": "code",
   "execution_count": null,
   "id": "6f828588",
   "metadata": {},
   "outputs": [],
   "source": [
    "decision2.simulate_decision_task(new_agent)"
   ]
  },
  {
   "cell_type": "code",
   "execution_count": null,
   "id": "393a3ec2",
   "metadata": {},
   "outputs": [],
   "source": []
  }
 ],
 "metadata": {
  "kernelspec": {
   "display_name": "Python 3 (ipykernel)",
   "language": "python",
   "name": "python3"
  },
  "language_info": {
   "codemirror_mode": {
    "name": "ipython",
    "version": 3
   },
   "file_extension": ".py",
   "mimetype": "text/x-python",
   "name": "python",
   "nbconvert_exporter": "python",
   "pygments_lexer": "ipython3",
   "version": "3.13.7"
  }
 },
 "nbformat": 4,
 "nbformat_minor": 5
}
